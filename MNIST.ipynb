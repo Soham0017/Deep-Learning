{
  "nbformat": 4,
  "nbformat_minor": 0,
  "metadata": {
    "colab": {
      "provenance": []
    },
    "kernelspec": {
      "name": "python3",
      "display_name": "Python 3"
    },
    "language_info": {
      "name": "python"
    }
  },
  "cells": [
    {
      "cell_type": "markdown",
      "source": [
        "Convolutional Neural Network\n"
      ],
      "metadata": {
        "id": "k_RYM-2S4_7b"
      }
    },
    {
      "cell_type": "code",
      "execution_count": null,
      "metadata": {
        "id": "ymePcnHH43Gl"
      },
      "outputs": [],
      "source": [
        "from tensorflow import keras\n",
        "from tensorflow.keras import layers\n",
        "from tensorflow. keras.datasets import mnist\n",
        "from matplotlib import pyplot as plt\n",
        "import numpy as np\n",
        "import random"
      ]
    },
    {
      "cell_type": "code",
      "source": [
        "# Defining model\n",
        "\n",
        "inputs = keras.Input(shape = (28, 28, 1))\n",
        "x = layers.Conv2D(filters = 32, kernel_size = 3, activation = \"relu\")(inputs)\n",
        "x = layers.MaxPool2D(pool_size = 2)(x)\n",
        "x = layers.Conv2D(filters = 64, kernel_size = 3, activation = \"relu\")(x)\n",
        "x = layers.MaxPool2D(pool_size = 2)(x)\n",
        "x = layers.Conv2D(filters = 128, kernel_size = 3, activation = \"relu\")(x)\n",
        "x = layers.Flatten()(x)\n",
        "outputs = layers.Dense(10, activation = \"softmax\")(x)\n",
        "\n",
        "model = keras.Model(inputs = inputs, outputs = outputs)"
      ],
      "metadata": {
        "id": "vXaghN9H5MR6"
      },
      "execution_count": null,
      "outputs": []
    },
    {
      "cell_type": "code",
      "source": [
        "model.summary()"
      ],
      "metadata": {
        "colab": {
          "base_uri": "https://localhost:8080/"
        },
        "id": "nFIoQYLw6atz",
        "outputId": "90361fd2-eac5-461c-eaad-cab362594ff0"
      },
      "execution_count": null,
      "outputs": [
        {
          "output_type": "stream",
          "name": "stdout",
          "text": [
            "Model: \"model\"\n",
            "_________________________________________________________________\n",
            " Layer (type)                Output Shape              Param #   \n",
            "=================================================================\n",
            " input_1 (InputLayer)        [(None, 28, 28, 1)]       0         \n",
            "                                                                 \n",
            " conv2d (Conv2D)             (None, 26, 26, 32)        320       \n",
            "                                                                 \n",
            " max_pooling2d (MaxPooling2  (None, 13, 13, 32)        0         \n",
            " D)                                                              \n",
            "                                                                 \n",
            " conv2d_1 (Conv2D)           (None, 11, 11, 64)        18496     \n",
            "                                                                 \n",
            " max_pooling2d_1 (MaxPoolin  (None, 5, 5, 64)          0         \n",
            " g2D)                                                            \n",
            "                                                                 \n",
            " conv2d_2 (Conv2D)           (None, 3, 3, 128)         73856     \n",
            "                                                                 \n",
            " flatten (Flatten)           (None, 1152)              0         \n",
            "                                                                 \n",
            " dense (Dense)               (None, 10)                11530     \n",
            "                                                                 \n",
            "=================================================================\n",
            "Total params: 104202 (407.04 KB)\n",
            "Trainable params: 104202 (407.04 KB)\n",
            "Non-trainable params: 0 (0.00 Byte)\n",
            "_________________________________________________________________\n"
          ]
        }
      ]
    },
    {
      "cell_type": "code",
      "source": [
        "(train_images, train_labels), (test_images , test_labels) = mnist.load_data()\n",
        "print(train_images.shape)\n",
        "print(test_images.shape)"
      ],
      "metadata": {
        "colab": {
          "base_uri": "https://localhost:8080/"
        },
        "id": "n9liTWZk7u-3",
        "outputId": "1b5dfd9a-5530-4432-ff12-aa2ecc5b6772"
      },
      "execution_count": null,
      "outputs": [
        {
          "output_type": "stream",
          "name": "stdout",
          "text": [
            "Downloading data from https://storage.googleapis.com/tensorflow/tf-keras-datasets/mnist.npz\n",
            "11490434/11490434 [==============================] - 0s 0us/step\n",
            "(60000, 28, 28)\n",
            "(10000, 28, 28)\n"
          ]
        }
      ]
    },
    {
      "cell_type": "code",
      "source": [
        "# Reshaping images\n",
        "\n",
        "train_images = train_images.reshape((60000, 28, 28, 1))\n",
        "train_images = train_images.astype(\"float32\") / 255\n",
        "test_images = test_images.reshape((10000, 28, 28, 1))\n",
        "test_images = test_images.astype(\"float32\") / 255"
      ],
      "metadata": {
        "id": "Sy5dGwAp-Fl5"
      },
      "execution_count": null,
      "outputs": []
    },
    {
      "cell_type": "code",
      "source": [
        "# Training the model on MNIST dataset\n",
        "\n",
        "model.compile(optimizer = \"rmsprop\", loss = \"sparse_categorical_crossentropy\", metrics = [\"accuracy\"])\n",
        "model.fit(train_images, train_labels, epochs = 5, batch_size = 64)"
      ],
      "metadata": {
        "colab": {
          "base_uri": "https://localhost:8080/"
        },
        "id": "C2ihjf6y-9Vr",
        "outputId": "aaa930e8-9ea1-4a00-ba39-24bedb5dad44"
      },
      "execution_count": null,
      "outputs": [
        {
          "output_type": "stream",
          "name": "stdout",
          "text": [
            "Epoch 1/5\n",
            "938/938 [==============================] - 70s 72ms/step - loss: 0.1580 - accuracy: 0.9509\n",
            "Epoch 2/5\n",
            "938/938 [==============================] - 67s 72ms/step - loss: 0.0459 - accuracy: 0.9862\n",
            "Epoch 3/5\n",
            "938/938 [==============================] - 53s 57ms/step - loss: 0.0314 - accuracy: 0.9904\n",
            "Epoch 4/5\n",
            "938/938 [==============================] - 54s 58ms/step - loss: 0.0245 - accuracy: 0.9925\n",
            "Epoch 5/5\n",
            "938/938 [==============================] - 54s 58ms/step - loss: 0.0180 - accuracy: 0.9941\n"
          ]
        },
        {
          "output_type": "execute_result",
          "data": {
            "text/plain": [
              "<keras.src.callbacks.History at 0x7ace5ccd6bc0>"
            ]
          },
          "metadata": {},
          "execution_count": 6
        }
      ]
    },
    {
      "cell_type": "code",
      "source": [
        "#Evaluating the model\n",
        "\n",
        "test_loss, test_acc = model.evaluate(test_images, test_labels)\n",
        "print(f\"Test accuracy: {test_acc:.3f}\")\n",
        "print(f\"Test loss: {test_loss:.3f}\")"
      ],
      "metadata": {
        "colab": {
          "base_uri": "https://localhost:8080/"
        },
        "id": "jtGEiuzR_iKZ",
        "outputId": "6223bee5-f1a9-418c-a372-faf493914e04"
      },
      "execution_count": null,
      "outputs": [
        {
          "output_type": "stream",
          "name": "stdout",
          "text": [
            "313/313 [==============================] - 3s 9ms/step - loss: 0.0272 - accuracy: 0.9912\n",
            "Test accuracy: 0.991\n",
            "Test loss: 0.027\n"
          ]
        }
      ]
    },
    {
      "cell_type": "code",
      "source": [
        "def plot_image_with_prediction(image, prediction, subplot):\n",
        "  subplot.imshow(image, cmap=\"gray\")\n",
        "  subplot.set_title(f\"Predicted label: {np.argmax(prediction)}\")\n",
        "  subplot.axis(\"off\")\n",
        "\n",
        "# Get a random sample of test images\n",
        "total_images = 5\n",
        "random_indices = random.sample(range(len(test_images)), total_images)\n",
        "random_images = test_images[random_indices]\n",
        "predictions = model.predict(random_images)\n",
        "\n",
        "# Create a figure and subplots\n",
        "fig, axes = plt.subplots(nrows=1, ncols = total_images, figsize=(10, 5))\n",
        "\n",
        "# Plot the random images with predictions on subplots\n",
        "for i in range(total_images):\n",
        "  image = random_images[i].reshape(28, 28)\n",
        "  prediction = predictions[i]\n",
        "  plot_image_with_prediction(image, prediction, axes[i])\n",
        "\n",
        "plt.show()"
      ],
      "metadata": {
        "colab": {
          "base_uri": "https://localhost:8080/",
          "height": 209
        },
        "id": "D-SanCJ8A3bJ",
        "outputId": "6a1c4028-027f-4750-ee85-bf05d007ec30"
      },
      "execution_count": null,
      "outputs": [
        {
          "output_type": "stream",
          "name": "stdout",
          "text": [
            "1/1 [==============================] - 0s 21ms/step\n"
          ]
        },
        {
          "output_type": "display_data",
          "data": {
            "text/plain": [
              "<Figure size 1000x500 with 5 Axes>"
            ],
            "image/png": "[encoded data removed]"
          },
          "metadata": {}
        }
      ]
    },
    {
      "cell_type": "code",
      "source": [],
      "metadata": {
        "id": "wqPEXoRaFCDC"
      },
      "execution_count": null,
      "outputs": []
    }
  ]
}