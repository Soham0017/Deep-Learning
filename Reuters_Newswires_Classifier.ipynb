{
  "nbformat": 4,
  "nbformat_minor": 0,
  "metadata": {
    "colab": {
      "provenance": []
    },
    "kernelspec": {
      "name": "python3",
      "display_name": "Python 3"
    },
    "language_info": {
      "name": "python"
    }
  },
  "cells": [
    {
      "cell_type": "markdown",
      "source": [
        "Reuters Newswires Classifier"
      ],
      "metadata": {
        "id": "-ACc9ivnhjDn"
      }
    },
    {
      "cell_type": "code",
      "execution_count": 2,
      "metadata": {
        "id": "G7Sj4zwThGPz"
      },
      "outputs": [],
      "source": [
        "from tensorflow.keras.datasets import reuters\n",
        "import numpy as np\n",
        "from tensorflow import keras\n",
        "from tensorflow.keras import layers\n",
        "import matplotlib.pyplot as plt"
      ]
    },
    {
      "cell_type": "code",
      "source": [
        "(train_data, train_labels), (test_data, test_labels) = reuters.load_data(num_words = 10000)"
      ],
      "metadata": {
        "id": "yk8KgFokhogM",
        "colab": {
          "base_uri": "https://localhost:8080/"
        },
        "outputId": "0556c685-c9fc-4a96-8644-54352a0606b0"
      },
      "execution_count": 3,
      "outputs": [
        {
          "output_type": "stream",
          "name": "stdout",
          "text": [
            "Downloading data from https://storage.googleapis.com/tensorflow/tf-keras-datasets/reuters.npz\n",
            "2110848/2110848 [==============================] - 0s 0us/step\n"
          ]
        }
      ]
    },
    {
      "cell_type": "code",
      "source": [
        "# decoding news back to test\n",
        "\n",
        "word_index = reuters.get_word_index();\n",
        "reverse_word_index = dict(\n",
        "    [(value, key) for (key, value) in word_index.items()]\n",
        ")\n",
        "decoded_newswire = \" \".join(\n",
        "    [reverse_word_index.get(i-3, \"?\") for i in train_data[0]]\n",
        ")\n",
        "print(decoded_newswire)"
      ],
      "metadata": {
        "colab": {
          "base_uri": "https://localhost:8080/"
        },
        "id": "A4W86RuuiIOP",
        "outputId": "53dca1f3-3dcc-4df7-f2cb-c804edccbdbb"
      },
      "execution_count": 4,
      "outputs": [
        {
          "output_type": "stream",
          "name": "stdout",
          "text": [
            "Downloading data from https://storage.googleapis.com/tensorflow/tf-keras-datasets/reuters_word_index.json\n",
            "550378/550378 [==============================] - 0s 0us/step\n",
            "? ? ? said as a result of its december acquisition of space co it expects earnings per share in 1987 of 1 15 to 1 30 dlrs per share up from 70 cts in 1986 the company said pretax net should rise to nine to 10 mln dlrs from six mln dlrs in 1986 and rental operation revenues to 19 to 22 mln dlrs from 12 5 mln dlrs it said cash flow per share this year should be 2 50 to three dlrs reuter 3\n"
          ]
        }
      ]
    },
    {
      "cell_type": "code",
      "source": [
        "# Encoding the integer sequences via Multi-Hot encoding\n",
        "\n",
        "def vectorize_sequences(sequences, dimension = 10000) :\n",
        "    results = np.zeros((len(sequences), dimension))\n",
        "    for i, sequence in enumerate(sequences):\n",
        "      for j in sequence:\n",
        "        results[i, j] = 1\n",
        "    return results"
      ],
      "metadata": {
        "id": "J3Cg5a5Ii6zs"
      },
      "execution_count": 5,
      "outputs": []
    },
    {
      "cell_type": "code",
      "source": [
        "x_train = vectorize_sequences(train_data)\n",
        "x_test = vectorize_sequences(test_data)"
      ],
      "metadata": {
        "id": "gOXZ9GMykq0s"
      },
      "execution_count": 6,
      "outputs": []
    },
    {
      "cell_type": "code",
      "source": [
        "print(max(train_labels))\n",
        "print(len(train_labels))\n",
        "\n",
        "print(max(test_labels))\n",
        "print(len(test_labels))"
      ],
      "metadata": {
        "colab": {
          "base_uri": "https://localhost:8080/"
        },
        "id": "gmA5kYdfqpt3",
        "outputId": "a5b6b185-0ba8-4dac-e768-a81513e631e1"
      },
      "execution_count": 7,
      "outputs": [
        {
          "output_type": "stream",
          "name": "stdout",
          "text": [
            "45\n",
            "8982\n",
            "45\n",
            "2246\n"
          ]
        }
      ]
    },
    {
      "cell_type": "code",
      "source": [
        "# Encoding the labels (one-Hot encoding / Categorical encoding)\n",
        "\n",
        "def to_one_hot(labels, dimension = 46):\n",
        "  # classifying into 46 mutually exclussive topics\n",
        "    results = np.zeros((len(labels), dimension))\n",
        "    for i, label in enumerate(labels):\n",
        "      results[i, label] = 1\n",
        "    return results"
      ],
      "metadata": {
        "id": "ET17H_r7k7ib"
      },
      "execution_count": 8,
      "outputs": []
    },
    {
      "cell_type": "code",
      "source": [
        "y_train = to_one_hot(train_labels)\n",
        "y_test = to_one_hot(test_labels)"
      ],
      "metadata": {
        "id": "VdEs8pvHmYiD"
      },
      "execution_count": 9,
      "outputs": []
    },
    {
      "cell_type": "code",
      "source": [
        "# we can also do the above categorical encoding using to_categorical\n",
        "\n",
        "# from tensorflow.keras.utils import to_categorical\n",
        "# y_train1 = to_categorical(train_labels)\n",
        "# y_test1 = to_categorical(test_labels)"
      ],
      "metadata": {
        "id": "vmbjfV96mvKe"
      },
      "execution_count": 10,
      "outputs": []
    },
    {
      "cell_type": "markdown",
      "source": [
        "Building the model"
      ],
      "metadata": {
        "id": "6IlOYF40nTmJ"
      }
    },
    {
      "cell_type": "code",
      "source": [
        "model = keras.Sequential([\n",
        "    layers.Dense(64, activation = \"relu\"),\n",
        "    layers.Dense(64, activation = \"relu\"),\n",
        "    layers.Dense(46, activation = \"softmax\")\n",
        "])"
      ],
      "metadata": {
        "id": "qbMf9-cRnRv9"
      },
      "execution_count": 11,
      "outputs": []
    },
    {
      "cell_type": "code",
      "source": [
        "model.compile(\n",
        "    optimizer = \"rmsprop\",\n",
        "    loss = \"categorical_crossentropy\",\n",
        "    metrics = [\"accuracy\"])"
      ],
      "metadata": {
        "id": "b07inHTcnW7B"
      },
      "execution_count": 12,
      "outputs": []
    },
    {
      "cell_type": "code",
      "source": [
        "x_val = x_train[:1000]\n",
        "partial_x_train = x_train[1000:]\n",
        "y_val = y_train[:1000]\n",
        "partial_y_train = y_train[1000:]"
      ],
      "metadata": {
        "id": "Uum550Mxk6WD"
      },
      "execution_count": 13,
      "outputs": []
    },
    {
      "cell_type": "code",
      "source": [
        "history = model.fit(\n",
        "    partial_x_train,\n",
        "    partial_y_train,\n",
        "    epochs = 9,\n",
        "    batch_size = 512,\n",
        "    validation_data = (x_val, y_val)\n",
        ")"
      ],
      "metadata": {
        "colab": {
          "base_uri": "https://localhost:8080/"
        },
        "id": "Y5RRtOWplCwC",
        "outputId": "de8ad20d-305b-42d8-9532-a598da570b3b"
      },
      "execution_count": 14,
      "outputs": [
        {
          "output_type": "stream",
          "name": "stdout",
          "text": [
            "Epoch 1/9\n",
            "16/16 [==============================] - 2s 78ms/step - loss: 2.9253 - accuracy: 0.4679 - val_loss: 1.9243 - val_accuracy: 0.5930\n",
            "Epoch 2/9\n",
            "16/16 [==============================] - 1s 74ms/step - loss: 1.5811 - accuracy: 0.6793 - val_loss: 1.3836 - val_accuracy: 0.7020\n",
            "Epoch 3/9\n",
            "16/16 [==============================] - 1s 88ms/step - loss: 1.1840 - accuracy: 0.7410 - val_loss: 1.2052 - val_accuracy: 0.7440\n",
            "Epoch 4/9\n",
            "16/16 [==============================] - 1s 81ms/step - loss: 0.9662 - accuracy: 0.7918 - val_loss: 1.1109 - val_accuracy: 0.7650\n",
            "Epoch 5/9\n",
            "16/16 [==============================] - 1s 80ms/step - loss: 0.8085 - accuracy: 0.8218 - val_loss: 1.0285 - val_accuracy: 0.7810\n",
            "Epoch 6/9\n",
            "16/16 [==============================] - 1s 87ms/step - loss: 0.6809 - accuracy: 0.8498 - val_loss: 0.9867 - val_accuracy: 0.7910\n",
            "Epoch 7/9\n",
            "16/16 [==============================] - 1s 79ms/step - loss: 0.5750 - accuracy: 0.8747 - val_loss: 0.9474 - val_accuracy: 0.8030\n",
            "Epoch 8/9\n",
            "16/16 [==============================] - 1s 81ms/step - loss: 0.4837 - accuracy: 0.8986 - val_loss: 0.9244 - val_accuracy: 0.8030\n",
            "Epoch 9/9\n",
            "16/16 [==============================] - 1s 83ms/step - loss: 0.4127 - accuracy: 0.9107 - val_loss: 0.9025 - val_accuracy: 0.8050\n"
          ]
        }
      ]
    },
    {
      "cell_type": "code",
      "source": [
        " loss = history.history[\"loss\"]\n",
        " val_loss = history.history[\"val_loss\"]\n",
        " epochs = range(1, len(loss) + 1)\n",
        " plt.plot(epochs, loss, \"g\", label=\"Training loss\")\n",
        " plt.plot(epochs, val_loss, \"b\", label=\"Validation loss\")\n",
        " plt.title(\"Training and validation loss\")\n",
        " plt.xlabel(\"Epochs\")\n",
        " plt.ylabel(\"Loss\")\n",
        " plt.legend()\n",
        " plt.show()"
      ],
      "metadata": {
        "colab": {
          "base_uri": "https://localhost:8080/",
          "height": 472
        },
        "id": "3IuF2hkUmBUJ",
        "outputId": "37b11934-c2ff-4e80-c29e-7519478244eb"
      },
      "execution_count": 15,
      "outputs": [
        {
          "output_type": "display_data",
          "data": {
            "text/plain": [
              "<Figure size 640x480 with 1 Axes>"
            ],
            "image/png": "[encoded data removed]"
          },
          "metadata": {}
        }
      ]
    },
    {
      "cell_type": "code",
      "source": [
        " acc = history.history[\"accuracy\"]\n",
        " val_acc = history.history[\"val_accuracy\"]\n",
        " plt.plot(epochs, acc, \"g\", label=\"Training accuracy\")\n",
        " plt.plot(epochs, val_acc, \"b\", label=\"Validation accuracy\")\n",
        " plt.title(\"Training and validation accuracy\")\n",
        " plt.xlabel(\"Epochs\")\n",
        " plt.ylabel(\"Accuracy\")\n",
        " plt.legend()\n",
        " plt.show()"
      ],
      "metadata": {
        "colab": {
          "base_uri": "https://localhost:8080/",
          "height": 472
        },
        "id": "d7MkwEiYnm2a",
        "outputId": "1c81396e-0453-426c-f8d8-a8626bb4f08e"
      },
      "execution_count": 16,
      "outputs": [
        {
          "output_type": "display_data",
          "data": {
            "text/plain": [
              "<Figure size 640x480 with 1 Axes>"
            ],
            "image/png": "[encoded data removed]"
          },
          "metadata": {}
        }
      ]
    },
    {
      "cell_type": "code",
      "source": [
        " results = model.evaluate(x_test, y_test)"
      ],
      "metadata": {
        "colab": {
          "base_uri": "https://localhost:8080/"
        },
        "id": "muBo1f7Wugnh",
        "outputId": "61196d68-54d9-4f45-9f75-3c581a4b60a4"
      },
      "execution_count": 17,
      "outputs": [
        {
          "output_type": "stream",
          "name": "stdout",
          "text": [
            "71/71 [==============================] - 0s 6ms/step - loss: 0.9771 - accuracy: 0.7787\n"
          ]
        }
      ]
    },
    {
      "cell_type": "code",
      "source": [
        "predictions = model.predict(x_test)"
      ],
      "metadata": {
        "colab": {
          "base_uri": "https://localhost:8080/"
        },
        "id": "eUNHk2LAu1jz",
        "outputId": "08d4163e-205e-4c87-e422-0893a1462cda"
      },
      "execution_count": 18,
      "outputs": [
        {
          "output_type": "stream",
          "name": "stdout",
          "text": [
            "71/71 [==============================] - 1s 8ms/step\n"
          ]
        }
      ]
    },
    {
      "cell_type": "code",
      "source": [
        "# predictions[0] is a vector of length 46\n",
        "print(np.sum(predictions[0]))\n",
        "\n",
        "#class with highest probability in predictions[0]\n",
        "print(np.argmax(predictions[0]))\n",
        "\n",
        "#lets check that in y_test\n",
        "print(y_test[0])"
      ],
      "metadata": {
        "colab": {
          "base_uri": "https://localhost:8080/"
        },
        "id": "NbOIGJ8lwBXP",
        "outputId": "ce0096f8-d33d-48c1-e692-47b13a0782ca"
      },
      "execution_count": 19,
      "outputs": [
        {
          "output_type": "stream",
          "name": "stdout",
          "text": [
            "0.99999994\n",
            "3\n",
            "[0. 0. 0. 1. 0. 0. 0. 0. 0. 0. 0. 0. 0. 0. 0. 0. 0. 0. 0. 0. 0. 0. 0. 0.\n",
            " 0. 0. 0. 0. 0. 0. 0. 0. 0. 0. 0. 0. 0. 0. 0. 0. 0. 0. 0. 0. 0. 0.]\n"
          ]
        }
      ]
    },
    {
      "cell_type": "code",
      "source": [],
      "metadata": {
        "id": "FZdiJipawIfZ"
      },
      "execution_count": 19,
      "outputs": []
    }
  ]
}